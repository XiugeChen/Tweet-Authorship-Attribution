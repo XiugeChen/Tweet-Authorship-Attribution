{
 "cells": [
  {
   "cell_type": "markdown",
   "metadata": {},
   "source": [
    "## Feature Engineering"
   ]
  },
  {
   "cell_type": "code",
   "execution_count": null,
   "metadata": {},
   "outputs": [],
   "source": [
    "import preprocess\n",
    "\n",
    "from nltk.corpus import stopwords\n",
    "\n",
    "from sklearn.feature_extraction.text import CountVectorizer\n",
    "from sklearn.feature_extraction.text import TfidfTransformer"
   ]
  },
  {
   "cell_type": "code",
   "execution_count": null,
   "metadata": {},
   "outputs": [],
   "source": [
    "# extract tf-idf features\n",
    "def tf_idf(df):\n",
    "    stop_words = stopwords.words('english')\n",
    "\n",
    "    cv = CountVectorizer(max_df=1.0, stop_words=stop_words, decode_error='ignore')\n",
    "    transformer = TfidfTransformer(smooth_idf=True, use_idf=True)\n",
    "    \n",
    "    df = merge_tweets(df)\n",
    "\n",
    "    cv_df = cv.fit_transform(clean_train_x)\n",
    "\n",
    "    train_x = transformer.fit_transform(cv_df)\n",
    "\n",
    "    return train_x, test_x"
   ]
  },
  {
   "cell_type": "code",
   "execution_count": null,
   "metadata": {},
   "outputs": [],
   "source": [
    "# read data\n",
    "\n",
    "raw_train_df = pd.read_csv(TRAIN_FILE, delimiter='\\t', header=None, names=['ID','Text'])\n",
    "raw_test_df = pd.read_csv(TEST_FILE, delimiter='\\t', header=None, names=['Text'])\n",
    "\n",
    "preprocess_train_df = preprocess.preprocess(raw_train_df, rmv_all_spec=True, rmv_stop=True, lemmatize=True)\n",
    "tf_idf(preprocess_train_df)"
   ]
  }
 ],
 "metadata": {
  "kernelspec": {
   "display_name": "Python 3",
   "language": "python",
   "name": "python3"
  },
  "language_info": {
   "codemirror_mode": {
    "name": "ipython",
    "version": 3
   },
   "file_extension": ".py",
   "mimetype": "text/x-python",
   "name": "python",
   "nbconvert_exporter": "python",
   "pygments_lexer": "ipython3",
   "version": "3.7.2"
  }
 },
 "nbformat": 4,
 "nbformat_minor": 2
}
